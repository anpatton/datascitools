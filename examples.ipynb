{
 "cells": [
  {
   "cell_type": "code",
   "execution_count": null,
   "metadata": {},
   "outputs": [],
   "source": [
    "#TODO add in ELI5 examples for all models/spatial components \n",
    "# use cali housing data"
   ]
  },
  {
   "cell_type": "code",
   "execution_count": 24,
   "metadata": {},
   "outputs": [],
   "source": [
    "from jenkspy import jenks_breaks\n",
    "\n",
    "def jenks_discretize(data, n_classes: int) -> np.array:\n",
    "    breaks = jenks_breaks(data, n_classes=n_classes)\n",
    "    breaks[-1] = np.inf\n",
    "    return np.digitize(data, breaks)"
   ]
  },
  {
   "cell_type": "code",
   "execution_count": 25,
   "metadata": {},
   "outputs": [
    {
     "data": {
      "text/plain": [
       "array([1, 2, 2, 2, 2])"
      ]
     },
     "execution_count": 25,
     "metadata": {},
     "output_type": "execute_result"
    }
   ],
   "source": [
    "jenks_discretize(data = np.array([1, 2, 3, 4, 5]), n_classes = 2)"
   ]
  }
 ],
 "metadata": {
  "kernelspec": {
   "display_name": "Python 3.10.4 ('tester')",
   "language": "python",
   "name": "python3"
  },
  "language_info": {
   "codemirror_mode": {
    "name": "ipython",
    "version": 3
   },
   "file_extension": ".py",
   "mimetype": "text/x-python",
   "name": "python",
   "nbconvert_exporter": "python",
   "pygments_lexer": "ipython3",
   "version": "3.10.4"
  },
  "orig_nbformat": 4,
  "vscode": {
   "interpreter": {
    "hash": "57a20780c7a63fbb8aabf167ed687f261b7c1c236162e2ad77ba218a57790661"
   }
  }
 },
 "nbformat": 4,
 "nbformat_minor": 2
}
